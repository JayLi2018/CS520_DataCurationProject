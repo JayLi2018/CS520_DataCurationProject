{
 "cells": [
  {
   "cell_type": "code",
   "execution_count": 118,
   "id": "fcbb1c1b",
   "metadata": {},
   "outputs": [],
   "source": [
    "import psycopg2\n",
    "import pandas\n",
    "from datasketch import MinHashLSHEnsemble, MinHash, LeanMinHash\n",
    "import pickle\n",
    "from collections import defaultdict"
   ]
  },
  {
   "cell_type": "code",
   "execution_count": 119,
   "id": "a4ff7924",
   "metadata": {},
   "outputs": [],
   "source": [
    "def create_and_serialize_index(conn, table_name, num_perm=128):\n",
    "    # get list of tables available in conn\n",
    "    get_t_q = f\"\"\"\n",
    "    SELECT table_name\n",
    "    FROM information_schema.tables\n",
    "    WHERE table_schema='public'\n",
    "    AND table_type='BASE TABLE'\n",
    "    AND table_name != '{table_name}'\n",
    "    \"\"\"\n",
    "    cursor=conn.cursor()\n",
    "    cursor.execute(get_t_q)\n",
    "    res=cursor.fetchall()\n",
    "    \n",
    "    drop_if_exist_q = f\"\"\"\n",
    "    DROP TABLE IF EXISTS {table_name};\"\"\"\n",
    "    cursor.execute(drop_if_exist_q)\n",
    "    \n",
    "    create_table_q = f\"\"\"\n",
    "    CREATE TABLE IF NOT EXISTS {table_name}(tname text, cname text, dsize int, hashval bytea);\n",
    "    \"\"\"\n",
    "    cursor.execute(create_table_q)\n",
    "    \n",
    "    # Create an LSH Ensemble index with threshold and number of partition\n",
    "    # settings.\n",
    "    lshensemble = MinHashLSHEnsemble(threshold=0.8, num_perm=num_perm,\n",
    "    num_part=32)\n",
    "    # create lshensemble \n",
    "    table_hash_input_tuples = []\n",
    "    \n",
    "    i = 0\n",
    "    for t in res:\n",
    "        print(f\"table : {t[0]}\")\n",
    "        t_hashes = {}\n",
    "        cols_q = f\"SELECT column_name FROM INFORMATION_SCHEMA. COLUMNS WHERE TABLE_NAME = '{t[0]}'\";\n",
    "        cursor.execute(cols_q)\n",
    "        cols = cursor.fetchall()\n",
    "        for c in cols:\n",
    "#             print(f'column: {c}')\n",
    "            distincts_q = f'select distinct \"{c[0]}\" FROM {t[0]} where \"{c[0]}\" is not null'\n",
    "            cursor.execute(distincts_q)\n",
    "            set_vals = [v[0] for v in cursor.fetchall()]\n",
    "#             print(set_vals)\n",
    "            mh = MinHash(num_perm=num_perm)\n",
    "            for v in set_vals:\n",
    "                mh.update(v.encode('utf8'))\n",
    "            lmh = LeanMinHash(seed=mh.seed,hashvalues=mh.hashvalues)\n",
    "            pickled_lmh = pickle.dumps(lmh)\n",
    "            insert_one_hash_q = f\"\"\"\n",
    "            INSERT INTO {table_name} VALUES ('{t[0]}', '{c[0]}', {len(set_vals)}, \\\n",
    "            {psycopg2.Binary(pickled_lmh)})\n",
    "            \"\"\"\n",
    "#             print(insert_one_hash_q)\n",
    "            cursor.execute(insert_one_hash_q)\n",
    "            table_hash_input_tuples.append((f\"{t[0]}-{c[0]}\", mh, len(set_vals)))\n",
    "        i+=1\n",
    "    lshensemble.index(table_hash_input_tuples)\n",
    "    \n",
    "    return lshensemble"
   ]
  },
  {
   "cell_type": "code",
   "execution_count": 120,
   "id": "6149cdc2",
   "metadata": {},
   "outputs": [],
   "source": [
    "def load_index(conn, index_table, num_perm=128):\n",
    "    \n",
    "    retrieve_q = f\"SELECT tname, cname, dsize, hashval FROM {index_table}\"\n",
    "    cur = conn.cursor()\n",
    "    \n",
    "    index_dict = defaultdict(dict)\n",
    "    \n",
    "    cur.execute(retrieve_q)\n",
    "    raw = cur.fetchall()\n",
    "    \n",
    "    # create lshensemble \n",
    "    table_hash_input_tuples = []\n",
    "    \n",
    "    for r in raw:\n",
    "        tname, cname, dsize, mhash = r[0], r[1], r[2], pickle.loads(r[3])\n",
    "        index_dict[f'{r[0]}-{r[1]}'] = {'table':tname, \n",
    "                                           'col': cname, \n",
    "                                           'mhash': mhash,\n",
    "                                           'dsize':dsize}\n",
    "        \n",
    "        table_hash_input_tuples.append((f\"{tname}-{cname}\", mhash, dsize))\n",
    "    \n",
    "    # Create an LSH Ensemble index with threshold and number of partition\n",
    "    # settings.\n",
    "    lshensemble = MinHashLSHEnsemble(threshold=0.8, num_perm=num_perm,\n",
    "    num_part=32)\n",
    "    lshensemble.index(table_hash_input_tuples)\n",
    "    \n",
    "    return lshensemble, index_dict"
   ]
  },
  {
   "cell_type": "code",
   "execution_count": 125,
   "id": "996fdda9",
   "metadata": {},
   "outputs": [],
   "source": [
    "def search_index(lshensemble, index_dict, tname, cname):\n",
    "    \n",
    "    mhash = index_dict[f'{tname}-{cname}']['mhash']\n",
    "    dsize = index_dict[f'{tname}-{cname}']['dsize']\n",
    "    \n",
    "    for key in lshensemble.query(mhash, dsize):\n",
    "        print(key)"
   ]
  },
  {
   "cell_type": "code",
   "execution_count": 123,
   "id": "5ab07b81",
   "metadata": {},
   "outputs": [
    {
     "name": "stdout",
     "output_type": "stream",
     "text": [
      "table : a\n",
      "table : b\n",
      "table : c\n",
      "table : d\n"
     ]
    }
   ],
   "source": [
    "if __name__ == '__main__':\n",
    "    conn = psycopg2.connect(\"dbname=test_hash_db user=postgres\")\n",
    "    conn.autocommit=True\n",
    "    create_and_serialize_index(conn, 'test')"
   ]
  },
  {
   "cell_type": "code",
   "execution_count": 126,
   "id": "e2f82c6d",
   "metadata": {},
   "outputs": [
    {
     "name": "stdout",
     "output_type": "stream",
     "text": [
      "a-a\n",
      "b-c\n"
     ]
    }
   ],
   "source": [
    "lshensemble, index_dict = load_index(conn, 'test')\n",
    "search_index(lshensemble, index_dict, 'a', 'a')"
   ]
  }
 ],
 "metadata": {
  "kernelspec": {
   "display_name": "Python 3",
   "language": "python",
   "name": "python3"
  },
  "language_info": {
   "codemirror_mode": {
    "name": "ipython",
    "version": 3
   },
   "file_extension": ".py",
   "mimetype": "text/x-python",
   "name": "python",
   "nbconvert_exporter": "python",
   "pygments_lexer": "ipython3",
   "version": "3.6.8"
  }
 },
 "nbformat": 4,
 "nbformat_minor": 5
}
