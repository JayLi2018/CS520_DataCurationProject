{
 "cells": [
  {
   "cell_type": "code",
   "execution_count": 27,
   "id": "1cac86ec",
   "metadata": {},
   "outputs": [],
   "source": [
    "from lsh_helpers import *\n",
    "import networkx as nx\n",
    "import matplotlib.pyplot as plt\n",
    "import random\n",
    "import Levenshtein"
   ]
  },
  {
   "cell_type": "code",
   "execution_count": 86,
   "id": "3678e6af",
   "metadata": {},
   "outputs": [],
   "source": [
    "def build_schema(lshensemble, index_dict):\n",
    "    sgraph = nx.DiGraph()\n",
    "    edge_labels={}\n",
    "    # loop through index dict and search for containment relationships, if found, \n",
    "    # add an edge between those 2 tables with edge label as the \"join\" condition\n",
    "    for k,v in index_dict.items():\n",
    "        try:\n",
    "            candidates = search_index(lshensemble, index_dict, v['table'], v['col'])\n",
    "        except ZeroDivisionError:\n",
    "            continue\n",
    "        if(candidates):\n",
    "            for c in candidates:\n",
    "                ctable, ccol = c.split('->')\n",
    "                if(ctable==v['table']):\n",
    "                    continue\n",
    "                rnum = random.random()\n",
    "                if(rnum<0.00005):\n",
    "                    if(Levenshtein.distance(v['table'], ctable)<=len(v['table'])/5):\n",
    "                        sgraph.add_edge(v['table'], ctable)\n",
    "                        edge_labels[(v['table'], ctable)] = \\\n",
    "                        (f\"{v['col']}---{ccol}\", 'blue')\n",
    "                    else:\n",
    "                        sgraph.add_edge(v['table'], ctable)\n",
    "                        edge_labels[(v['table'], ctable)] = \\\n",
    "                        (f\"{v['col']}---{ccol}\", 'red')\n",
    "    \n",
    "    return edge_labels, sgraph\n"
   ]
  },
  {
   "cell_type": "code",
   "execution_count": 101,
   "id": "05cd555e",
   "metadata": {},
   "outputs": [],
   "source": [
    "def draw_graph(sgraph, edges):\n",
    "    \n",
    "    pos = nx.random_layout(sgraph)\n",
    "    \n",
    "    edge_colors = []\n",
    "    \n",
    "    for e in sgraph.edges:\n",
    "        edge_colors.append(edges[e][1])\n",
    "        \n",
    "    nx.draw(\n",
    "    sgraph, pos, edge_color=edge_colors, width=0.1, linewidths=1,\n",
    "    node_size=20, node_color='pink', alpha=0.9,font_size=3,\n",
    "    with_labels=True\n",
    "    )\n",
    "    \n",
    "    nx.draw_networkx_edge_labels(\n",
    "    sgraph, pos,\n",
    "    edge_labels=edge_labels,\n",
    "    font_color='black',\n",
    "    font_size = 2\n",
    "    )\n",
    "    \n",
    "    plt.figure(1, figsize=(1500, 1500), dpi=1000)\n",
    "    plt.savefig(f'sgraph.png',dpi=1000)\n",
    "    \n",
    "#     return edge_labels"
   ]
  },
  {
   "cell_type": "code",
   "execution_count": 30,
   "id": "aa8390d1",
   "metadata": {},
   "outputs": [],
   "source": [
    "# create a graph structure based on containment threshold"
   ]
  },
  {
   "cell_type": "code",
   "execution_count": 31,
   "id": "11bb6e2d",
   "metadata": {},
   "outputs": [],
   "source": [
    "if __name__ =='__main__':\n",
    "    conn = psycopg2.connect(\"dbname=curation_data_lake user=postgres\")\n",
    "#     conn = psycopg2.connect(\"dbname=test_hash_db user=postgres\")\n",
    "    conn.autocommit=True\n",
    "#     create_and_serialize_index(conn, 'april16hashes',num_perm=256, thresh=0.8)"
   ]
  },
  {
   "cell_type": "code",
   "execution_count": 32,
   "id": "307fe612",
   "metadata": {},
   "outputs": [
    {
     "name": "stderr",
     "output_type": "stream",
     "text": [
      "/home/opc/chenjie/cs520/lib/python3.6/site-packages/datasketch/lshensemble_partition.py:72: RuntimeWarning: invalid value encountered in true_divide\n",
      "  return np.sum((float(sizes[u])-sizes[l:u+1])/float(sizes[u])*counts[l:u+1])\n"
     ]
    }
   ],
   "source": [
    "lshensemble, index_dict = load_index(conn, index_table='april16hashes', threshold=0.9,num_perm=256)"
   ]
  },
  {
   "cell_type": "code",
   "execution_count": 87,
   "id": "0a808e0b",
   "metadata": {
    "scrolled": true
   },
   "outputs": [],
   "source": [
    "edges,graph_obj = build_schema(lshensemble, index_dict)"
   ]
  },
  {
   "cell_type": "code",
   "execution_count": 88,
   "id": "89597db3",
   "metadata": {},
   "outputs": [
    {
     "data": {
      "text/plain": [
       "7"
      ]
     },
     "execution_count": 88,
     "metadata": {},
     "output_type": "execute_result"
    }
   ],
   "source": [
    "len(graph_obj.edges)"
   ]
  },
  {
   "cell_type": "code",
   "execution_count": 89,
   "id": "3228e9af",
   "metadata": {},
   "outputs": [
    {
     "data": {
      "text/plain": [
       "{('strategic_subject_list__historical',\n",
       "  'parks__locations_deprecated_november_2016'): ('PREDICTOR RAT GANG AFFILIATION---DOG-FRIENDLY',\n",
       "  'red'),\n",
       " ('violence_reduction__victims_of_homicides_and_nonfatal_shootings',\n",
       "  'flu_shot_clinic_locations__2012'): ('DISTRICT---Ward', 'red'),\n",
       " ('chicago_public_schools__school_progress_reports_sy1819',\n",
       "  'chicago_public_schools__school_progress_reports_sy1617'): ('School_Survey_Safety---School_Survey_Supportive_Environment',\n",
       "  'blue'),\n",
       " ('chicago_public_schools__elementary_school_progress_report_20132',\n",
       "  'chicago_public_schools__school_admissions_information_sy2021'): ('School ID---School_ID',\n",
       "  'red'),\n",
       " ('public_health_statistics__selected_underlying_causes_of_death_i',\n",
       "  'covid19_daily_vaccinations__chicago_residents'): ('Adjusted Rate Rank---Vaccine Series Completed - Daily - American Indian/Alaska Nativ',\n",
       "  'red'),\n",
       " ('parks__locations_deprecated_november_2016',\n",
       "  'influenza_surveillance_weekly'): ('CONSERVATORY---PEDIATRIC_DEATHS', 'red'),\n",
       " ('libraries__2020_visitors_by_location',\n",
       "  'chicago_public_schools__school_progress_reports_sy1516'): ('CITY---City',\n",
       "  'red')}"
      ]
     },
     "execution_count": 89,
     "metadata": {},
     "output_type": "execute_result"
    }
   ],
   "source": [
    "edges"
   ]
  },
  {
   "cell_type": "code",
   "execution_count": 102,
   "id": "9f384b7a",
   "metadata": {},
   "outputs": [
    {
     "data": {
      "image/png": "[encoded data removed]",
      "text/plain": [
       "<Figure size 432x288 with 1 Axes>"
      ]
     },
     "metadata": {},
     "output_type": "display_data"
    }
   ],
   "source": [
    "draw_graph(graph_obj, edges)"
   ]
  },
  {
   "cell_type": "code",
   "execution_count": null,
   "id": "e54064dd",
   "metadata": {},
   "outputs": [],
   "source": []
  }
 ],
 "metadata": {
  "kernelspec": {
   "display_name": "Python 3",
   "language": "python",
   "name": "python3"
  },
  "language_info": {
   "codemirror_mode": {
    "name": "ipython",
    "version": 3
   },
   "file_extension": ".py",
   "mimetype": "text/x-python",
   "name": "python",
   "nbconvert_exporter": "python",
   "pygments_lexer": "ipython3",
   "version": "3.6.8"
  }
 },
 "nbformat": 4,
 "nbformat_minor": 5
}
