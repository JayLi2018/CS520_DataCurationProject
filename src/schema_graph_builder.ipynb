{
 "cells": [
  {
   "cell_type": "code",
   "execution_count": 20,
   "id": "1cac86ec",
   "metadata": {},
   "outputs": [],
   "source": [
    "from lsh_helpers import *\n",
    "import networkx as nx\n",
    "import matplotlib.pyplot as plt\n",
    "import random"
   ]
  },
  {
   "cell_type": "code",
   "execution_count": 35,
   "id": "3678e6af",
   "metadata": {},
   "outputs": [],
   "source": [
    "def build_schema(lshensemble, index_dict):\n",
    "    sgraph = nx.DiGraph()\n",
    "    edge_labels={}\n",
    "    # loop through index dict and search for containment relationships, if found, \n",
    "    # add an edge between those 2 tables with edge label as the \"join\" condition\n",
    "    for k,v in index_dict.items():\n",
    "#         ftable_label = v['table'].replace('_','\\_')\n",
    "#         fcolumn_label = v['col'].replace('_','\\_')\n",
    "        try:\n",
    "            candidates = search_index(lshensemble, index_dict, v['table'], v['col'])\n",
    "#             print(f\"candidates for {v['table']}:{v['col']}\")\n",
    "#             print(candidates)\n",
    "#             print('\\n')\n",
    "        except ZeroDivisionError:\n",
    "            continue\n",
    "        if(candidates):\n",
    "            for c in candidates:\n",
    "                ctable, ccol = c.split('->')\n",
    "    #             ptable_label = ctable.replace('_','\\_')\n",
    "    #             pcolumn_label = ccol.replace('_','\\_')\n",
    "                if(ctable==v['table']):\n",
    "                    continue\n",
    "                rnum = random.random()\n",
    "                if(rnum<0.0005):\n",
    "                    sgraph.add_edge(v['table'], ctable)\n",
    "                    edge_labels[(v['table'], ctable)] = \\\n",
    "                    f\"{v['table']}.{v['col']}---{ctable}.{ccol}\"\n",
    "    \n",
    "    return edge_labels, sgraph\n",
    "\n",
    "#     pos=nx.spring_layout(sgraph)\n",
    "#     nx.draw(\n",
    "#     sgraph, pos, edge_color='black', width=1, linewidths=1,\n",
    "#     node_size=500, node_color='pink', alpha=0.9,\n",
    "#     labels={node: node for node in sgraph.nodes()}\n",
    "# )\n",
    "#     nx.draw_networkx_edge_labels(\n",
    "#     sgraph, pos,\n",
    "#     edge_labels=edge_labels,\n",
    "#     font_color='red'\n",
    "# )\n"
   ]
  },
  {
   "cell_type": "code",
   "execution_count": 40,
   "id": "6580111b",
   "metadata": {},
   "outputs": [],
   "source": [
    "def draw_graph(sgraph):\n",
    "    \n",
    "    pos = nx.random_layout(sgraph, seed=0)\n",
    "    nx.draw_random(sgraph, node_color='pink', \n",
    "                   width=0.1, node_size=20,font_size=2,\n",
    "            with_labels=True, edge_cmap=plt.cm.YlOrBr)\n",
    "    \n",
    "    plt.figure(1, figsize=(1500, 1500), dpi=1000)\n",
    "    plt.savefig(f'sgraph.png',dpi=1000)\n",
    "    \n",
    "#     return edge_labels"
   ]
  },
  {
   "cell_type": "code",
   "execution_count": 31,
   "id": "aa8390d1",
   "metadata": {},
   "outputs": [],
   "source": [
    "# create a graph structure based on containment threshold"
   ]
  },
  {
   "cell_type": "code",
   "execution_count": 24,
   "id": "11bb6e2d",
   "metadata": {},
   "outputs": [],
   "source": [
    "if __name__ =='__main__':\n",
    "    conn = psycopg2.connect(\"dbname=curation_data_lake user=postgres\")\n",
    "#     conn = psycopg2.connect(\"dbname=test_hash_db user=postgres\")\n",
    "    conn.autocommit=True\n",
    "#     create_and_serialize_index(conn, 'april16hashes',num_perm=256, thresh=0.8)"
   ]
  },
  {
   "cell_type": "code",
   "execution_count": 25,
   "id": "090e44c5",
   "metadata": {},
   "outputs": [],
   "source": [
    "lshensemble, index_dict = load_index(conn, index_table='april16hashes', threshold=0.9,num_perm=256)"
   ]
  },
  {
   "cell_type": "code",
   "execution_count": 36,
   "id": "0a808e0b",
   "metadata": {
    "scrolled": true
   },
   "outputs": [],
   "source": [
    "edges,graph_obj = build_schema(lshensemble, index_dict)"
   ]
  },
  {
   "cell_type": "code",
   "execution_count": 37,
   "id": "9d1e6230",
   "metadata": {},
   "outputs": [
    {
     "data": {
      "text/plain": [
       "91"
      ]
     },
     "execution_count": 37,
     "metadata": {},
     "output_type": "execute_result"
    }
   ],
   "source": [
    "len(graph_obj.edges)"
   ]
  },
  {
   "cell_type": "code",
   "execution_count": null,
   "id": "ba998f47",
   "metadata": {},
   "outputs": [],
   "source": [
    "draw_graph(graph_obj)"
   ]
  },
  {
   "cell_type": "code",
   "execution_count": null,
   "id": "5a7a7d16",
   "metadata": {},
   "outputs": [],
   "source": []
  }
 ],
 "metadata": {
  "kernelspec": {
   "display_name": "Python 3",
   "language": "python",
   "name": "python3"
  },
  "language_info": {
   "codemirror_mode": {
    "name": "ipython",
    "version": 3
   },
   "file_extension": ".py",
   "mimetype": "text/x-python",
   "name": "python",
   "nbconvert_exporter": "python",
   "pygments_lexer": "ipython3",
   "version": "3.6.8"
  }
 },
 "nbformat": 4,
 "nbformat_minor": 5
}
