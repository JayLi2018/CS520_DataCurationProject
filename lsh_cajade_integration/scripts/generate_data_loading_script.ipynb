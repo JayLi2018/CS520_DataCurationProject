{
 "cells": [
  {
   "cell_type": "code",
   "execution_count": 1,
   "id": "cdca7cc1",
   "metadata": {},
   "outputs": [],
   "source": [
    "import psycopg2\n",
    "import glob\n",
    "import pandas as pd\n",
    "import re"
   ]
  },
  {
   "cell_type": "code",
   "execution_count": 7,
   "id": "2cbe2393",
   "metadata": {
    "scrolled": true
   },
   "outputs": [],
   "source": [
    "# ! sudo nano /etc/postgresql/14/main/pg_hba.conf\n",
    "#! sudo service postgresql restart\n",
    "conn = psycopg2.connect(\"dbname=lsh_cajade_data_lake user=postgres\")\n",
    "conn.autocommit= True\n",
    "\n",
    "cur = conn.cursor()"
   ]
  },
  {
   "cell_type": "code",
   "execution_count": 11,
   "id": "7c3cc9a0",
   "metadata": {},
   "outputs": [
    {
     "name": "stdout",
     "output_type": "stream",
     "text": [
      "[(1, 'John', 'Smith', 'CEO')]\n"
     ]
    }
   ],
   "source": [
    "cur.execute(\"select * from clients_test_ali\", conn)\n",
    "rows = cur.fetchall()\n",
    "print (rows)"
   ]
  },
  {
   "cell_type": "code",
   "execution_count": 3,
   "id": "3d491bd6",
   "metadata": {},
   "outputs": [
    {
     "name": "stdout",
     "output_type": "stream",
     "text": [
      "re.compile('^[0-9]')\n"
     ]
    }
   ],
   "source": [
    "raw_csv_dir = '../data/'\n",
    "csv = re.compile('(.*).csv')\n",
    "start_num  = re.compile('^[0-9]')\n",
    "print(start_num)"
   ]
  },
  {
   "cell_type": "code",
   "execution_count": 15,
   "id": "53fdec3b",
   "metadata": {},
   "outputs": [],
   "source": [
    "import os\n",
    "ftowrite = open(\"insert_script.sh\",'a')  # append mode\n",
    "ftowrite.write(\"#!/bin/bash\\n\")\n",
    "for f in glob.glob(f'{raw_csv_dir}/*.csv'):\n",
    "    df=pd.read_csv(f, nrows=1)\n",
    "    lst = list(df)\n",
    "    table_name = csv.search(f.split('/')[-1]).group(1)\n",
    "    table_name = table_name.replace(\"'\", '')\n",
    "    table_name = table_name.replace(\"(\", '')\n",
    "    table_name = table_name.replace(\")\", '')\n",
    "    table_name = table_name.replace(\"–\", '')\n",
    "    table_name = table_name.replace(\"-\", '')\n",
    "    table_name = table_name.replace(\"&\", '')\n",
    "    table_name = table_name.replace(\".\", '')\n",
    "    table_name = table_name.replace(\":\", '')\n",
    "    f = f.replace(\"'\",\"''\")\n",
    "    if(start_num.search(table_name)):\n",
    "        table_name = 'Table'+ table_name\n",
    "#     print(table_name)\n",
    "#     print(f\"\"\"\n",
    "#           COPY {table_name} FROM '{f}' csv header quote '\"' \n",
    "#           \"\"\")\n",
    "#     print(f\"\"\"psql -U postgres -d curation_data_lake -c \"\\\\\\COPY {table_name} FROM '{f}' csv header quote '\\\\\"'\"\\n\"\"\")\n",
    "    ftowrite.write(f\"\"\"psql -U postgres -d lsh_cajade_data_lake -c \"\\\\\\COPY {table_name} FROM '{f}' csv header quote '\\\\\"'\"\\n\"\"\")\n",
    "ftowrite.close()"
   ]
  }
 ],
 "metadata": {
  "kernelspec": {
   "display_name": "Python 3 (ipykernel)",
   "language": "python",
   "name": "python3"
  },
  "language_info": {
   "codemirror_mode": {
    "name": "ipython",
    "version": 3
   },
   "file_extension": ".py",
   "mimetype": "text/x-python",
   "name": "python",
   "nbconvert_exporter": "python",
   "pygments_lexer": "ipython3",
   "version": "3.10.6"
  }
 },
 "nbformat": 4,
 "nbformat_minor": 5
}
