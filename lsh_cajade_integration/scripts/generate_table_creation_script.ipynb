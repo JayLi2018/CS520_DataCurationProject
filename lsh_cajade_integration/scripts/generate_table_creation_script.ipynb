{
 "cells": [
  {
   "cell_type": "code",
   "execution_count": 8,
   "id": "e90470ec",
   "metadata": {},
   "outputs": [],
   "source": [
    "import glob\n",
    "import pandas as pd"
   ]
  },
  {
   "cell_type": "code",
   "execution_count": 9,
   "id": "17e743ba",
   "metadata": {},
   "outputs": [],
   "source": [
    "def get_create_table_statement(table_name, column_list):\n",
    "    ini_syntax = f\"CREATE TABLE IF NOT EXISTS {table_name} \\n(\"\n",
    "    converter = lambda x: re.sub('[^a-zA-Z0-9\\n\\.]', '_', x)\n",
    "    column_list = list(map(converter, column_list))\n",
    "    table_cols_str = ' VARCHAR,\\n'.join(each_col for each_col in column_list)\n",
    "    final_syntax = \" VARCHAR);\"\n",
    "    \n",
    "    return ini_syntax + table_cols_str + final_syntax"
   ]
  },
  {
   "cell_type": "code",
   "execution_count": 10,
   "id": "115477a0",
   "metadata": {},
   "outputs": [],
   "source": [
    "raw_csv_dir = '../data/'\n",
    "\n",
    "ftowrite = open(\"create_table_script.sh\",'a')  # append mode\n",
    "ftowrite.write(\"#!/bin/bash\\n\")\n",
    "for f in glob.glob(f'{raw_csv_dir}/*.csv'):\n",
    "    table_name = f.split(\"/\")[-1].split(\".\")[0]\n",
    "    table_columns = list(pd.read_csv(f, nrows=1))\n",
    "    create_tbl_str = get_create_table_statement(table_name, table_columns)\n",
    "#     ftowrite.write(f\"\"\"psql -U postgres -d lsh_cajade_data_lake -c \"{create_tbl_str}\"\"\"\")\n",
    "    ftowrite.write(f\"\"\"psql -U postgres -d lsh_cajade_data_lake -c \\\"{create_tbl_str}\\\"\"\"\")\n",
    "    ftowrite.write(\"\\n\\n\")\n",
    "ftowrite.close()"
   ]
  }
 ],
 "metadata": {
  "kernelspec": {
   "display_name": "Python 3 (ipykernel)",
   "language": "python",
   "name": "python3"
  },
  "language_info": {
   "codemirror_mode": {
    "name": "ipython",
    "version": 3
   },
   "file_extension": ".py",
   "mimetype": "text/x-python",
   "name": "python",
   "nbconvert_exporter": "python",
   "pygments_lexer": "ipython3",
   "version": "3.10.6"
  }
 },
 "nbformat": 4,
 "nbformat_minor": 5
}
